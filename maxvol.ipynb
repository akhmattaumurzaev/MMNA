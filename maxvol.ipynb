{
  "nbformat": 4,
  "nbformat_minor": 0,
  "metadata": {
    "colab": {
      "provenance": []
    },
    "kernelspec": {
      "name": "python3",
      "display_name": "Python 3"
    },
    "language_info": {
      "name": "python"
    }
  },
  "cells": [
    {
      "cell_type": "code",
      "source": [
        "import numpy as np"
      ],
      "metadata": {
        "id": "Yko0-Cg16Zv1"
      },
      "execution_count": null,
      "outputs": []
    },
    {
      "cell_type": "code",
      "execution_count": 60,
      "metadata": {
        "id": "Pv8vUEQoyS1l"
      },
      "outputs": [],
      "source": [
        "def QR_with_pivoting(A):\n",
        "  col_norms_with_indices = np.array([(i, np.linalg.norm(A[:, i])) for i in range(0, A.shape[1])])\n",
        "  sorted_col_norms_with_indices = sorted(col_norms_with_indices, key=lambda x: x[1], reverse=True)\n",
        "\n",
        "  permutation = [int(pair[0]) for pair in sorted_col_norms_with_indices]\n",
        "  P = np.eye(A.shape[1])\n",
        "  P = P[permutation]\n",
        "\n",
        "  AP = A @ P\n",
        "  Q, R = np.linalg.qr(AP)\n",
        "\n",
        "  return Q, R, P"
      ]
    },
    {
      "cell_type": "code",
      "source": [
        "A = np.array([[1, 2, 3],\n",
        "              [4, 5, 6],\n",
        "              [7, 8, 9]])\n",
        "\n",
        "\n",
        "Q, R, P = QR_with_pivoting(A)\n",
        "\n",
        "print(Q @ R @ P.transpose())"
      ],
      "metadata": {
        "colab": {
          "base_uri": "https://localhost:8080/"
        },
        "id": "uBEANlcL6Me-",
        "outputId": "ea6cc21e-8a73-4d67-ec6f-fcafb4f7f54e"
      },
      "execution_count": 39,
      "outputs": [
        {
          "output_type": "stream",
          "name": "stdout",
          "text": [
            "[[1. 2. 3.]\n",
            " [4. 5. 6.]\n",
            " [7. 8. 9.]]\n"
          ]
        }
      ]
    },
    {
      "cell_type": "code",
      "source": [
        "def max_abs_elem_ind(A):\n",
        "  max_abs_value = -1\n",
        "  for i in range(A.shape[0]):\n",
        "    for j in range(A.shape[1]):\n",
        "        abs_value = abs(A[i, j])\n",
        "        if abs_value > max_abs_value:\n",
        "            max_abs_value = abs_value\n",
        "            max_index = (i, j)\n",
        "  return max_index"
      ],
      "metadata": {
        "id": "OM8SfV4OuOFq"
      },
      "execution_count": 44,
      "outputs": []
    },
    {
      "cell_type": "code",
      "source": [
        "def maxvol(A):\n",
        "  n = A.shape[0]\n",
        "  r = A.shape[1]\n",
        "\n",
        "  Q, R, P = QR_with_pivoting(A)\n",
        "  A = A @ P[:, :r]\n",
        "\n",
        "\n",
        "  rev_submatrix = np.linalg.inv(A[:r, :])\n",
        "  B = A @ rev_submatrix\n",
        "\n",
        "  i, j = max_abs_elem_ind(A)\n",
        "  submatrix_indices = np.arange(r)\n",
        "  while i > r:\n",
        "    v = B[:, j]\n",
        "    v[j] -= 1\n",
        "    v[i] += 1\n",
        "\n",
        "    q = B[i,:]\n",
        "    q[j] -= 1\n",
        "\n",
        "    B = B - np.outer(v, q)/B[i,j]\n",
        "    i, j = max_abs_elem_ind(A)\n",
        "    if B[i, j] < 1e-15:\n",
        "      break\n",
        "    submatrix_indices[j] = i\n",
        "    print(B)\n",
        "    input()\n",
        "\n",
        "  return submatrix_indices, B, P"
      ],
      "metadata": {
        "id": "294-GdXPiyah"
      },
      "execution_count": 123,
      "outputs": []
    },
    {
      "cell_type": "code",
      "source": [
        "n = 5\n",
        "r = 2\n",
        "\n",
        "B = np.zeros((n, n))\n",
        "\n",
        "for i in range(n):\n",
        "    for j in range(n):\n",
        "        B[i, j] = np.sin(i + j)\n",
        "\n",
        "submatrix = B[:,:r]\n",
        "\n",
        "indices, B_hat, P = maxvol(submatrix)\n",
        "\n",
        "temp = np.zeros((n, n))\n",
        "for i in range(r):\n",
        "  for j in range(r):\n",
        "    temp[i,j] = P.transpose()[i,j]\n",
        "for i in range(r, n):\n",
        "  temp[i, i] = 1\n",
        "\n",
        "B_approx = B_hat @ B[indices, :] @ temp.transpose()\n",
        "print(np.linalg.norm(B_approx - B))"
      ],
      "metadata": {
        "colab": {
          "base_uri": "https://localhost:8080/"
        },
        "id": "gQ6Eu-aazzso",
        "outputId": "1de77a09-33f5-40ba-9574-4f7118066d32"
      },
      "execution_count": 122,
      "outputs": [
        {
          "output_type": "stream",
          "name": "stdout",
          "text": [
            "[[0. 1.]\n",
            " [1. 0.]]\n",
            "15.27940421955909\n"
          ]
        }
      ]
    }
  ]
}